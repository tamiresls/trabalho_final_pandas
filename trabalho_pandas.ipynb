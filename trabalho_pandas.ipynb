{
  "nbformat": 4,
  "nbformat_minor": 0,
  "metadata": {
    "colab": {
      "provenance": [],
      "authorship_tag": "ABX9TyPfjVaQ7Ets8TAzKAoiUoft",
      "include_colab_link": true
    },
    "kernelspec": {
      "name": "python3",
      "display_name": "Python 3"
    },
    "language_info": {
      "name": "python"
    }
  },
  "cells": [
    {
      "cell_type": "markdown",
      "metadata": {
        "id": "view-in-github",
        "colab_type": "text"
      },
      "source": [
        "<a href=\"https://colab.research.google.com/github/tamiresls/trabalho_final_pandas/blob/main/trabalho_pandas.ipynb\" target=\"_parent\"><img src=\"https://colab.research.google.com/assets/colab-badge.svg\" alt=\"Open In Colab\"/></a>"
      ]
    },
    {
      "cell_type": "code",
      "execution_count": 13,
      "metadata": {
        "id": "sCkpSs_SJNl5"
      },
      "outputs": [],
      "source": [
        "import pandas as pd\n",
        "\n",
        "# Carregar a base de dados\n",
        "df = pd.read_csv(\"tabela_fipe.csv\")"
      ]
    },
    {
      "cell_type": "code",
      "source": [
        "def exibir_informacoes(df):\n",
        "    print(\"Quantidade de registros:\", len(df))\n",
        "    print(\"Quantidade de colunas:\", len(df.columns))\n",
        "    print(\"Nome e tipo de cada coluna:\")\n",
        "    for column in df.columns:\n",
        "        print(f\"{column}: {df[column].dtype}\")\n",
        "\n",
        "    colunas_numericas = df.select_dtypes(include=['int', 'float']).columns\n",
        "    print(\"Valores máximos, mínimos e médios de cada coluna numérica:\")\n",
        "    for column in colunas_numericas:\n",
        "        print(f\"{column}:\")\n",
        "        print(\"Máximo:\", df[column].max())\n",
        "        print(\"Mínimo:\", df[column].min())\n",
        "        print(\"Média:\", df[column].mean())\n",
        "        print(\"-\" * 30)\n",
        "\n",
        "# Chamada da função para exibir informações descritivas\n",
        "exibir_informacoes(df)"
      ],
      "metadata": {
        "colab": {
          "base_uri": "https://localhost:8080/"
        },
        "id": "D66OLuZdLk3m",
        "outputId": "d42e5ab9-1175-438a-a0cc-03cae3afc5a5"
      },
      "execution_count": 24,
      "outputs": [
        {
          "output_type": "stream",
          "name": "stdout",
          "text": [
            "Quantidade de registros: 466020\n",
            "Quantidade de colunas: 8\n",
            "Nome e tipo de cada coluna:\n",
            "Unnamed: 0: int64\n",
            "codigoFipe: object\n",
            "marca: object\n",
            "modelo: object\n",
            "anoModelo: int64\n",
            "mesReferencia: int64\n",
            "anoReferencia: int64\n",
            "valor: float64\n",
            "Valores máximos, mínimos e médios de cada coluna numérica:\n",
            "Unnamed: 0:\n",
            "Máximo: 544151\n",
            "Mínimo: 0\n",
            "Média: 272398.09463327756\n",
            "------------------------------\n",
            "anoModelo:\n",
            "Máximo: 2023\n",
            "Mínimo: 1985\n",
            "Média: 2008.9683253937599\n",
            "------------------------------\n",
            "mesReferencia:\n",
            "Máximo: 12\n",
            "Mínimo: 1\n",
            "Média: 6.453540620574224\n",
            "------------------------------\n",
            "anoReferencia:\n",
            "Máximo: 2022\n",
            "Mínimo: 2001\n",
            "Média: 2015.1811810651902\n",
            "------------------------------\n",
            "valor:\n",
            "Máximo: 8407082.0\n",
            "Mínimo: 1871.0\n",
            "Média: 115745.5994742715\n",
            "------------------------------\n"
          ]
        }
      ]
    },
    {
      "cell_type": "code",
      "source": [
        "def filtrar_registros(df, coluna_filtro, comparacao, valor):\n",
        "    df_filtrado = df[df[coluna_filtro].apply(lambda x: eval(f\"x {comparacao} {valor}\"))]\n",
        "    return df_filtrado\n",
        "\n",
        "  # Exemplo de uso\n",
        "df_filtrado = filtrar_registros(df, 'valor', '>', 300000)\n",
        "print(df_filtrado)"
      ],
      "metadata": {
        "colab": {
          "base_uri": "https://localhost:8080/"
        },
        "id": "shjWowu6MH_8",
        "outputId": "046a1fef-c20b-428d-f5f6-c20e45def903"
      },
      "execution_count": 17,
      "outputs": [
        {
          "output_type": "stream",
          "name": "stdout",
          "text": [
            "        Unnamed: 0 codigoFipe            marca  \\\n",
            "7361         11711   085010-1     ASTON MARTIN   \n",
            "7362         11712   085011-0     ASTON MARTIN   \n",
            "7363         11713   085010-1     ASTON MARTIN   \n",
            "7364         11714   085002-0     ASTON MARTIN   \n",
            "7365         11715   085007-1     ASTON MARTIN   \n",
            "...            ...        ...              ...   \n",
            "463671      541704   005424-0  VW - VolksWagen   \n",
            "463990      542041   005266-3  VW - VolksWagen   \n",
            "464243      542307   005424-0  VW - VolksWagen   \n",
            "464338      542408   005424-0  VW - VolksWagen   \n",
            "465259      543376   005424-0  VW - VolksWagen   \n",
            "\n",
            "                                          modelo  anoModelo  mesReferencia  \\\n",
            "7361                      Vanquish V12 6.0 565cv       2016              2   \n",
            "7362                     DB9 Coupe 6.0 V12 510cv       2016              2   \n",
            "7363                      Vanquish V12 6.0 565cv       2022              5   \n",
            "7364                  Vantage Coupe 4.7 V8 425cv       2022              9   \n",
            "7365                        Rapide 6.0 V12 477cv       2012              8   \n",
            "...                                          ...        ...            ...   \n",
            "463671  TOUAREG R-Line 4.2 V8 360cv Tiptronic 5p       2018             10   \n",
            "463990     TOUAREG 3.6 24V V6 280cv Tiptronic 5p       2022              7   \n",
            "464243  TOUAREG R-Line 4.2 V8 360cv Tiptronic 5p       2022             10   \n",
            "464338  TOUAREG R-Line 4.2 V8 360cv Tiptronic 5p       2017              8   \n",
            "465259  TOUAREG R-Line 4.2 V8 360cv Tiptronic 5p       2022              2   \n",
            "\n",
            "        anoReferencia      valor  \n",
            "7361             2022  1807163.0  \n",
            "7362             2021  1214019.0  \n",
            "7363             2015  1850000.0  \n",
            "7364             2015   805650.0  \n",
            "7365             2017   819187.0  \n",
            "...               ...        ...  \n",
            "463671           2021   304304.0  \n",
            "463990           2017   330242.0  \n",
            "464243           2018   399821.0  \n",
            "464338           2020   313597.0  \n",
            "465259           2018   392344.0  \n",
            "\n",
            "[36802 rows x 8 columns]\n"
          ]
        }
      ]
    },
    {
      "cell_type": "code",
      "source": [
        "def agrupar_e_aplicar_funcao(df, coluna_agrupamento, coluna_agregacao, funcao):\n",
        "    funcoes_agregacao = {'max': 'max', 'min': 'min', 'media': 'mean', 'desvio_padrao': 'std'}\n",
        "    df_agrupado = df.groupby(coluna_agrupamento)[coluna_agregacao].agg(funcoes_agregacao[funcao])\n",
        "    return df_agrupado\n",
        "\n",
        "# Exemplo de uso\n",
        "estatisticas_agrupadas = agrupar_e_aplicar_funcao(df, 'marca', 'valor', 'media')\n",
        "print(estatisticas_agrupadas)"
      ],
      "metadata": {
        "colab": {
          "base_uri": "https://localhost:8080/"
        },
        "id": "abnzqcISNd0R",
        "outputId": "6c26d186-17af-49c3-c9ec-cb98f73a9e94"
      },
      "execution_count": 23,
      "outputs": [
        {
          "output_type": "stream",
          "name": "stdout",
          "text": [
            "marca\n",
            "ASTON MARTIN       933659.502538\n",
            "Acura               30653.199105\n",
            "Agrale             107277.968750\n",
            "Alfa Romeo          36435.071638\n",
            "Asia Motors          7114.450769\n",
            "                       ...      \n",
            "VW - VolksWagen     39789.239795\n",
            "Volvo               95209.176399\n",
            "Wake                49792.889241\n",
            "Walk                37806.979592\n",
            "smart               61349.761905\n",
            "Name: valor, Length: 84, dtype: float64\n"
          ]
        }
      ]
    }
  ]
}